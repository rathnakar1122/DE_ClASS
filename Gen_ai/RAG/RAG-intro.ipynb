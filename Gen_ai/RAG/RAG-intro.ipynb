{
 "cells": [
  {
   "cell_type": "markdown",
   "id": "18af13fb-d6d9-463a-9269-984308ea4bd3",
   "metadata": {},
   "source": [
    "what is RAG:"
   ]
  },
  {
   "cell_type": "markdown",
   "id": "318f1018-be23-4b23-a25b-adf3bed94a62",
   "metadata": {},
   "source": [
    "RAG stands for retrival argument Generations:\n",
    "    It is an apparoch that combines that large language models with external data sources. It enhances the model responce by retriving the relevent infotmation \n",
    "from databse or search sysetms and using that data to generate more accurate and contexually relevent."
   ]
  },
  {
   "cell_type": "code",
   "execution_count": null,
   "id": "e85677bd-77b6-48b6-bd6a-ad03fe0992e5",
   "metadata": {},
   "outputs": [],
   "source": []
  },
  {
   "cell_type": "code",
   "execution_count": null,
   "id": "a58ea9a9",
   "metadata": {},
   "outputs": [],
   "source": []
  }
 ],
 "metadata": {
  "kernelspec": {
   "display_name": "myenv",
   "language": "python",
   "name": "python3"
  },
  "language_info": {
   "codemirror_mode": {
    "name": "ipython",
    "version": 3
   },
   "file_extension": ".py",
   "mimetype": "text/x-python",
   "name": "python",
   "nbconvert_exporter": "python",
   "pygments_lexer": "ipython3",
   "version": "3.10.11"
  }
 },
 "nbformat": 4,
 "nbformat_minor": 5
}
