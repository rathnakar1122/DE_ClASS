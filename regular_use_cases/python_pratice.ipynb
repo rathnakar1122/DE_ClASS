{
 "cells": [
  {
   "cell_type": "code",
   "execution_count": 1,
   "id": "fc2417e9-9ce0-4975-bbe7-d79e5e315141",
   "metadata": {},
   "outputs": [
    {
     "ename": "ModuleNotFoundError",
     "evalue": "No module named 'datatime'",
     "output_type": "error",
     "traceback": [
      "\u001b[1;31m---------------------------------------------------------------------------\u001b[0m",
      "\u001b[1;31mModuleNotFoundError\u001b[0m                       Traceback (most recent call last)",
      "Cell \u001b[1;32mIn[1], line 1\u001b[0m\n\u001b[1;32m----> 1\u001b[0m \u001b[38;5;28;01mimport\u001b[39;00m\u001b[38;5;250m \u001b[39m\u001b[38;5;21;01mdatatime\u001b[39;00m\u001b[38;5;21;01m.\u001b[39;00m\u001b[38;5;21;01mtimedate\u001b[39;00m\n\u001b[0;32m      2\u001b[0m \u001b[38;5;28mprint\u001b[39m(datetime)\n",
      "\u001b[1;31mModuleNotFoundError\u001b[0m: No module named 'datatime'"
     ]
    }
   ],
   "source": []
  },
  {
   "cell_type": "code",
   "execution_count": 8,
   "id": "62976181-52cf-40a7-9bcc-dcdfd5075f23",
   "metadata": {},
   "outputs": [
    {
     "name": "stdout",
     "output_type": "stream",
     "text": [
      "2025-01-10\n"
     ]
    }
   ],
   "source": [
    "import datetime\n",
    "print(datetime.date.today())"
   ]
  },
  {
   "cell_type": "code",
   "execution_count": 10,
   "id": "b64297bb-40cd-409c-9b50-59cf913799ba",
   "metadata": {},
   "outputs": [
    {
     "name": "stdout",
     "output_type": "stream",
     "text": [
      "2025-01-10\n"
     ]
    }
   ],
   "source": [
    "import datetime\n",
    "print(datetime.date.today())"
   ]
  },
  {
   "cell_type": "code",
   "execution_count": 14,
   "id": "99dbf1a6-3d6b-41c8-b986-3a9f57405508",
   "metadata": {},
   "outputs": [
    {
     "name": "stdout",
     "output_type": "stream",
     "text": [
      "    OrderID   ProductID  ProductName   QuantitySold     SaleDate  CustomerID  \\\n",
      "0         1         101     Widget A              2   2024-10-01        C001   \n",
      "1         2         102     Widget B              1   2024-10-01        C002   \n",
      "2         3         101     Widget A              1   2024-10-02        C001   \n",
      "3         4         103     Widget C              3   2024-10-02        C003   \n",
      "4         5         102     Widget B              2   2024-10-03        C004   \n",
      "5         6         101     Widget A              4   2024-10-04        C005   \n",
      "6         7         104     Widget D              5   2024-10-05        C006   \n",
      "7         8         101     Widget A              3   2024-10-06        C007   \n",
      "8         9         105     Widget E              2   2024-10-06        C008   \n",
      "9        10         102     Widget B              3   2024-10-07        C009   \n",
      "10       11         103     Widget C              2   2024-10-07        C001   \n",
      "11       12         104     Widget D              1   2024-10-08        C002   \n",
      "12       13         106     Widget F              3   2024-10-09        C003   \n",
      "13       14         102     Widget B              4   2024-10-10        C010   \n",
      "14       15         105     Widget E              2   2024-10-10        C001   \n",
      "\n",
      "     Price  \n",
      "0     10.0  \n",
      "1     20.0  \n",
      "2     10.0  \n",
      "3     15.0  \n",
      "4     20.0  \n",
      "5     10.0  \n",
      "6     25.0  \n",
      "7     10.0  \n",
      "8     30.0  \n",
      "9     20.0  \n",
      "10    15.0  \n",
      "11    25.0  \n",
      "12    35.0  \n",
      "13    20.0  \n",
      "14    30.0  \n"
     ]
    }
   ],
   "source": [
    "import pandas as pd \n",
    "import logging\n",
    "logging.basicConfig(level=logging.ERROR)\n",
    "\n",
    "file_path = f\"sales_data.csv\"\n",
    "\n",
    "try:\n",
    "    df =pd.read_csv(file_path)\n",
    "    print(df)\n",
    "except FileNotFoundError:\n",
    "    print(f\"error: file Not dound at {file_path}\")\n",
    "except Exception as e:\n",
    "    print(f\"An error occurrred : {e}\")"
   ]
  },
  {
   "cell_type": "code",
   "execution_count": null,
   "id": "85c6d273-c607-4091-acf2-9f15c276ab41",
   "metadata": {},
   "outputs": [],
   "source": []
  },
  {
   "cell_type": "code",
   "execution_count": null,
   "id": "02ed1c80-01c2-400f-9524-298b1bbc3a87",
   "metadata": {},
   "outputs": [],
   "source": []
  }
 ],
 "metadata": {
  "kernelspec": {
   "display_name": "Python 3 (ipykernel)",
   "language": "python",
   "name": "python3"
  },
  "language_info": {
   "codemirror_mode": {
    "name": "ipython",
    "version": 3
   },
   "file_extension": ".py",
   "mimetype": "text/x-python",
   "name": "python",
   "nbconvert_exporter": "python",
   "pygments_lexer": "ipython3",
   "version": "3.10.11"
  }
 },
 "nbformat": 4,
 "nbformat_minor": 5
}
